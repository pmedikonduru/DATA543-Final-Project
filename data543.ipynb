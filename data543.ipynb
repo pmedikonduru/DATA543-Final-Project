{
 "cells": [
  {
   "cell_type": "code",
   "execution_count": 4,
   "metadata": {},
   "outputs": [],
   "source": [
    "import pandas as pd\n",
    "import folium\n",
    "from folium.plugins import HeatMap"
   ]
  },
  {
   "cell_type": "code",
   "execution_count": 2,
   "metadata": {},
   "outputs": [
    {
     "name": "stdout",
     "output_type": "stream",
     "text": [
      "                       time   latitude   longitude  depth   mag magType  \\\n",
      "0  2025-01-26T14:03:01.190Z  40.334833 -124.942833   7.04  4.13      mw   \n",
      "1  2025-01-02T02:34:04.660Z  38.845500 -122.756333   1.42  4.65      mw   \n",
      "2  2024-12-17T01:08:14.980Z  40.282000 -123.710667  28.97  4.05      mw   \n",
      "3  2024-12-10T13:01:07.270Z  40.332500 -124.792000   5.82  4.17      mw   \n",
      "4  2024-12-10T00:39:56.966Z  39.168600 -119.022500   8.10  4.20      ml   \n",
      "\n",
      "     nst     gap      dmin     rms  ...                   updated  \\\n",
      "0  177.0  231.00  0.461300  0.3000  ...  2025-01-30T22:40:12.722Z   \n",
      "1  115.0   44.00  0.009316  0.0800  ...  2025-02-02T16:55:45.589Z   \n",
      "2   79.0   23.00  0.079750  0.1800  ...  2025-02-04T01:18:21.392Z   \n",
      "3  158.0  226.00  0.346500  0.3200  ...  2025-01-17T16:58:40.613Z   \n",
      "4   28.0   42.03  0.250000  0.1405  ...  2025-01-07T03:40:10.291Z   \n",
      "\n",
      "                            place        type horizontalError depthError  \\\n",
      "0       56 km WNW of Petrolia, CA  earthquake            0.70       1.03   \n",
      "1             4 km NW of Cobb, CA  earthquake            0.09       0.15   \n",
      "2          20 km NE of Redway, CA  earthquake            0.23       0.55   \n",
      "3       43 km WNW of Petrolia, CA  earthquake            0.69       0.91   \n",
      "4  23 km NNE of Yerington, Nevada  earthquake             NaN       5.70   \n",
      "\n",
      "   magError  magNst    status  locationSource magSource  \n",
      "0       NaN     7.0  reviewed              nc        nc  \n",
      "1       NaN    21.0  reviewed              nc        nc  \n",
      "2       NaN     9.0  reviewed              nc        nc  \n",
      "3       NaN    14.0  reviewed              nc        nc  \n",
      "4      0.31     9.0  reviewed              nn        nn  \n",
      "\n",
      "[5 rows x 22 columns]\n"
     ]
    }
   ],
   "source": [
    "\n",
    "df = pd.read_csv('/Users/pranav_medikonduru/Downloads/USGS_query.csv')\n",
    "\n",
    "print(df.head())"
   ]
  },
  {
   "cell_type": "code",
   "execution_count": 3,
   "metadata": {},
   "outputs": [],
   "source": [
    "# ----------------------------\n",
    "# Map 1: Earthquake Locations\n",
    "# ----------------------------\n",
    "\n",
    "# Define a center point for the US.\n",
    "us_center = [39.8283, -98.5795]\n",
    "\n",
    "# Create a folium map with a clean base.\n",
    "eq_map = folium.Map(location=us_center, zoom_start=4, tiles='CartoDB positron')\n",
    "\n",
    "# Loop through the data and add a marker for each earthquake.\n",
    "for idx, row in df.iterrows():\n",
    "    lat = row['latitude']\n",
    "    lon = row['longitude']\n",
    "    \n",
    "    mag = row.get('mag', 0)\n",
    "    popup_text = f\"Magnitude: {mag}\" if pd.notnull(mag) else \"Earthquake event\"\n",
    "    \n",
    "    # Create a circle marker. The marker’s radius increases with magnitude.\n",
    "    folium.CircleMarker(\n",
    "        location=[lat, lon],\n",
    "        radius=3 + (mag if pd.notnull(mag) else 0) * 2,\n",
    "        popup=popup_text,\n",
    "        color='blue',\n",
    "        fill=True,\n",
    "        fill_opacity=0.7\n",
    "    ).add_to(eq_map)\n",
    "\n",
    "# Save the earthquake locations map to an HTML file.\n",
    "eq_map.save(\"earthquake_locations.html\")\n"
   ]
  },
  {
   "cell_type": "code",
   "execution_count": null,
   "metadata": {},
   "outputs": [],
   "source": [
    "# ---------------------------------------------------------\n",
    "# Map 2: Heatmap for Areas Likely Affected by Future Quakes\n",
    "# ---------------------------------------------------------\n",
    "\n",
    "heat_data = [\n",
    "    [row['latitude'], row['longitude'], row['mag'] if pd.notnull(row['mag']) else 1]\n",
    "    for idx, row in df.iterrows()\n",
    "]\n",
    "\n",
    "# Create a base map.\n",
    "heat_map = folium.Map(location=us_center, zoom_start=4, tiles='CartoDB positron')\n",
    "\n",
    "# Add the heatmap overlay.\n",
    "HeatMap(heat_data, min_opacity=0.5, radius=15, blur=25, max_zoom=6).add_to(heat_map)\n",
    "\n",
    "# Save the heatmap to an HTML file.\n",
    "heat_map.save(\"earthquake_heatmap.html\")\n"
   ]
  },
  {
   "cell_type": "code",
   "execution_count": null,
   "metadata": {},
   "outputs": [],
   "source": [
    "\n",
    "# ---------------------------------------------------------\n",
    "# Map 3: Clustering for Future Risk Prediction\n",
    "# ---------------------------------------------------------\n",
    "\n",
    "from sklearn.cluster import KMeans\n",
    "import numpy as np\n",
    "\n",
    "# Filter out any rows with missing location data.\n",
    "coords = df[['latitude', 'longitude']].dropna()\n",
    "\n",
    "num_clusters = 5\n",
    "kmeans = KMeans(n_clusters=num_clusters, random_state=42)\n",
    "df['cluster'] = kmeans.fit_predict(df[['latitude', 'longitude']])\n",
    "\n",
    "# Aggregate data by cluster: calculate the mean latitude, longitude, and magnitude.\n",
    "cluster_summary = df.groupby('cluster').agg({\n",
    "    'latitude': 'mean',\n",
    "    'longitude': 'mean',\n",
    "    'mag': 'mean'\n",
    "}).reset_index()\n",
    "\n",
    "# Create a new map to display the clusters.\n",
    "cluster_map = folium.Map(location=us_center, zoom_start=4, tiles='CartoDB positron')\n",
    "for idx, row in cluster_summary.iterrows():\n",
    "    folium.CircleMarker(\n",
    "        location=[row['latitude'], row['longitude']],\n",
    "        radius=10 + row['mag'] * 2,  \n",
    "        popup=f\"Predicted Magnitude: {row['mag']:.2f}\",\n",
    "        color='red',\n",
    "        fill=True,\n",
    "        fill_opacity=0.6\n",
    "    ).add_to(cluster_map)\n",
    "\n",
    "# Save the cluster map.\n",
    "cluster_map.save(\"earthquake_cluster_map.html\")\n"
   ]
  }
 ],
 "metadata": {
  "kernelspec": {
   "display_name": "base",
   "language": "python",
   "name": "python3"
  },
  "language_info": {
   "codemirror_mode": {
    "name": "ipython",
    "version": 3
   },
   "file_extension": ".py",
   "mimetype": "text/x-python",
   "name": "python",
   "nbconvert_exporter": "python",
   "pygments_lexer": "ipython3",
   "version": "3.12.2"
  }
 },
 "nbformat": 4,
 "nbformat_minor": 2
}
